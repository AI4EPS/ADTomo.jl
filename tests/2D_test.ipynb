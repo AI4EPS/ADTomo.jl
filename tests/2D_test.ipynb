{
 "cells": [
  {
   "cell_type": "code",
   "execution_count": null,
   "metadata": {},
   "outputs": [],
   "source": [
    "using CSV\n",
    "using DataFrames\n",
    "using Serialization\n",
    "using HDF5\n",
    "using ADCME\n",
    "using ADTomo\n",
    "using PyCall\n",
    "using Dates\n",
    "using PyPlot\n",
    "using Random\n",
    "using Base\n",
    "using LinearAlgebra\n",
    "Random.seed!(233)\n",
    "reset_default_graph()"
   ]
  },
  {
   "cell_type": "code",
   "execution_count": null,
   "metadata": {},
   "outputs": [],
   "source": [
    "m = 40           #width\n",
    "n = 30           #length\n",
    "h = 1.0          #resolution"
   ]
  },
  {
   "cell_type": "code",
   "execution_count": null,
   "metadata": {},
   "outputs": [],
   "source": [
    "f = ones(n,m)\n",
    "f[16:20,20:24] .= 2                #design velocity model"
   ]
  },
  {
   "cell_type": "code",
   "execution_count": null,
   "metadata": {},
   "outputs": [],
   "source": [
    "allsrc = DataFrame(x = [], y = [])\n",
    "allrcv = DataFrame(x = [], y = [])\n",
    "\n",
    "for rcv_x = 5:8:m\n",
    "    for rcv_y = 5:8:n\n",
    "        push!(allrcv.x,rcv_x)\n",
    "        push!(allrcv.y,rcv_y)\n",
    "    end\n",
    "end                                 #design the locations of stations\n",
    "\n",
    "for i = 1:40                        #the number of events\n",
    "    push!(allsrc.x,rand(1:m))\n",
    "    push!(allsrc.y,rand(1:n))\n",
    "end                                 #design the locations of events\n",
    "\n",
    "numrcv = size(allrcv,1)\n",
    "numsrc = size(allsrc,1)"
   ]
  },
  {
   "cell_type": "code",
   "execution_count": null,
   "metadata": {},
   "outputs": [],
   "source": [
    "u = PyObject[]\n",
    "for i=1:numsrc\n",
    "    push!(u,eikonal(f,allsrc.x[i],allsrc.y[i],h))\n",
    "end\n",
    "sess = Session()\n",
    "init(sess)\n",
    "uobs = run(sess, u)                                      #uobs is a list of [numsrc * (m,n)] representing travel time"
   ]
  },
  {
   "cell_type": "code",
   "execution_count": null,
   "metadata": {},
   "outputs": [],
   "source": [
    "obs_time = Array{Float64}(undef,numsrc,numrcv)\n",
    "for i = 1:numsrc\n",
    "    for j = 1:numrcv\n",
    "        obs_time[i,j] = uobs[i][allrcv.y[j],allrcv.x[j]]\n",
    "    end\n",
    "end"
   ]
  },
  {
   "cell_type": "code",
   "execution_count": null,
   "metadata": {},
   "outputs": [],
   "source": [
    "i = 5                                      #choose a source to plot a traveltime image\n",
    "figure()\n",
    "pcolormesh(uobs[i], cmap = \"Purples\")\n",
    "colorbar()\n",
    "scatter(allsrc.x[i],allsrc.y[i])\n",
    "title(\"traveltime_image_of_source_$i\")\n",
    "savefig(\"traveltime_$i.png\")"
   ]
  },
  {
   "cell_type": "code",
   "execution_count": null,
   "metadata": {},
   "outputs": [],
   "source": [
    "fvar = Variable(ones(n, m))                          #design an original velocity model for inversion\n",
    "u = PyObject[]\n",
    "for i=1:numsrc\n",
    "    push!(u,eikonal(fvar,allsrc.x[i],allsrc.y[i],h))\n",
    "end"
   ]
  },
  {
   "cell_type": "code",
   "execution_count": 49,
   "metadata": {},
   "outputs": [],
   "source": [
    "loss = sum([sum((obs_time[i,j] - u[i][allrcv.y[j],allrcv.x[j]])^2) for i = 1:numsrc for j=1:numrcv])\n",
    "init(sess)\n",
    "@show run(sess, loss)\n",
    "BFGS!(sess, loss, 200, var_to_bounds=Dict(fvar=>(0.5,3.0)))                                          #200 means max iteration steps and (0.5,100.0) means velocity change range"
   ]
  },
  {
   "cell_type": "code",
   "execution_count": null,
   "metadata": {},
   "outputs": [],
   "source": [
    "figure(figsize=(10, 4))\n",
    "subplot(121)\n",
    "pcolormesh(f)\n",
    "colorbar()\n",
    "title(\"True\")\n",
    "scatter(allsrc.x,allsrc.y,label=\"event\")\n",
    "scatter(allrcv.x,allrcv.y,label=\"station\")\n",
    "legend()\n",
    "subplot(122)\n",
    "pcolormesh(run(sess,fvar),vmin=0.8,vmax=2.2)                #vmin & vmax\n",
    "colorbar()\n",
    "title(\"Inverted\")\n",
    "savefig(\"inversion_result.png\")"
   ]
  }
 ],
 "metadata": {
  "kernelspec": {
   "display_name": "Python 3 (ipykernel)",
   "language": "python",
   "name": "python3"
  },
  "orig_nbformat": 4
 },
 "nbformat": 4,
 "nbformat_minor": 2
}
