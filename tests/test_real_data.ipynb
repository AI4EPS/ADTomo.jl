{
 "cells": [
  {
   "attachments": {},
   "cell_type": "markdown",
   "metadata": {},
   "source": [
    "read the data and find the character(choose x[-90 90] y[-125 115] as the final range)"
   ]
  },
  {
   "cell_type": "code",
   "execution_count": null,
   "metadata": {},
   "outputs": [],
   "source": [
    "using CSV\n",
    "using DataFrames\n",
    "file = \"/home/lingxia/data/seismic_data/BayArea/obspy/stations.csv\"\n",
    "stations = CSV.read(file,DataFrame)\n",
    "numsta = size(stations,1)\n",
    "maxx = 0\n",
    "minn = 100\n",
    "for i = 1:numsta\n",
    "    nowi = stations[i,10]\n",
    "    if nowi > maxx\n",
    "        maxx = nowi\n",
    "    elseif nowi < minn\n",
    "        minn = nowi\n",
    "    end\n",
    "end\n",
    "print(maxx,minn)\n",
    "# station\n",
    "# x 85.27638471396759  -85.78970083265496\n",
    "# y 110.96367321471415 -110.02896866918204"
   ]
  },
  {
   "cell_type": "code",
   "execution_count": null,
   "metadata": {},
   "outputs": [],
   "source": [
    "using CSV\n",
    "using DataFrames\n",
    "file = \"/home/lingxia/data/seismic_data/BayArea/obspy/events.csv\"\n",
    "events = CSV.read(file,DataFrame)\n",
    "numsrc = size(events,1)\n",
    "maxx = 0\n",
    "minn = 100\n",
    "for i = 1:numsrc\n",
    "    nowi = events[i,8]\n",
    "    if nowi > maxx\n",
    "        maxx = nowi\n",
    "    elseif nowi < minn\n",
    "        minn = nowi\n",
    "    end\n",
    "end\n",
    "print(maxx,minn)\n",
    "# event\n",
    "# x 89.08458545263605  -81.93655817886363\n",
    "# y 110.87770922228904 -121.06632597917981"
   ]
  },
  {
   "attachments": {},
   "cell_type": "markdown",
   "metadata": {},
   "source": [
    "convert the data to proper type && a small pick to avoid calculate all the data"
   ]
  },
  {
   "cell_type": "code",
   "execution_count": null,
   "metadata": {},
   "outputs": [],
   "source": [
    "multi = 1\n",
    "allsta = DataFrame(x=[],y=[])\n",
    "for i = 1 : numsta\n",
    "    x = stations[i,9]\n",
    "    y = stations[i,10]\n",
    "    nx = convert(Int64,round(x*multi))\n",
    "    ny = convert(Int64,round(y*multi))\n",
    "    # pick\n",
    "    if nx > 0 && nx <= 30 && ny >0 && ny <= 40\n",
    "        push!(allsta.x,nx)\n",
    "        push!(allsta.y,ny)\n",
    "    end\n",
    "end\n",
    "\n",
    "numsta = size(allsta,1)\n",
    "print(numsta)"
   ]
  },
  {
   "cell_type": "code",
   "execution_count": null,
   "metadata": {},
   "outputs": [],
   "source": [
    "multi = 1\n",
    "allsrc = DataFrame(x=[],y=[])\n",
    "for i = 1 : numsrc\n",
    "    x = events[i,7]\n",
    "    y = events[i,8]\n",
    "    nx = convert(Int64,round(x*multi))\n",
    "    ny = convert(Int64,round(y*multi))\n",
    "    if nx > 0 && nx <= 30 && ny >0 && ny <= 40\n",
    "        push!(allsrc.x,nx)\n",
    "        push!(allsrc.y,ny)\n",
    "    end\n",
    "end\n",
    "\n",
    "numsrc = size(allsrc,1)\n",
    "print(numsrc)"
   ]
  },
  {
   "attachments": {},
   "cell_type": "markdown",
   "metadata": {},
   "source": [
    "velocity model"
   ]
  },
  {
   "cell_type": "code",
   "execution_count": 15,
   "metadata": {},
   "outputs": [],
   "source": [
    "m = 30\n",
    "n = 40\n",
    "h = 0.1\n",
    "len = 5 # the length of the grid\n",
    "\n",
    "f = ones(n, m)\n",
    "for i = 0 : n-1\n",
    "    for j = 0 : m-1\n",
    "        ii = (i - i%len)/len\n",
    "        jj = (j - j%len)/len\n",
    "        if ( ii + jj )%2 == 0\n",
    "            f[i+1,j+1] = 2\n",
    "        end\n",
    "    end\n",
    "end"
   ]
  },
  {
   "attachments": {},
   "cell_type": "markdown",
   "metadata": {},
   "source": [
    "use the test.jl"
   ]
  },
  {
   "cell_type": "code",
   "execution_count": null,
   "metadata": {},
   "outputs": [],
   "source": [
    "push!(LOAD_PATH,\"../src/\")\n",
    "using ADCME\n",
    "using ADEikonal\n",
    "using PyCall\n",
    "using LinearAlgebra\n",
    "using PyPlot\n",
    "using CSV\n",
    "using DataFrames\n",
    "using Random\n",
    "Random.seed!(233)\n",
    "\n",
    "reset_default_graph()\n",
    "\n",
    "u = PyObject[]\n",
    "for i=1:numsrc\n",
    "    push!(u,eikonal(f,allsrc[i,1],allsrc[i,2],h))\n",
    "end\n",
    "\n",
    "sess = Session()\n",
    "uobs = run(sess, u)\n",
    "\n",
    "F = Variable(ones(n, m))\n",
    "u = PyObject[]\n",
    "for i=1:numsrc\n",
    "    push!(u,eikonal(F,allsrc[i,1],allsrc[i,2],h))\n",
    "end\n",
    "\n",
    "loss = sum([sum((uobs[i][allsta[j,2],allsta[j,1]] - u[i][allsta[j,2],allsta[j,1]])^2) for i = 1:numsrc for j=1:numsta])\n",
    "\n",
    "init(sess)\n",
    "@show run(sess, loss)\n",
    "\n",
    "BFGS!(sess, loss, 400,var_to_bounds=Dict(F=>(0.5,100.0)))\n",
    "\n",
    "figure(figsize=(10, 4))\n",
    "subplot(121)\n",
    "pcolormesh(f)\n",
    "colorbar()\n",
    "title(\"True\")\n",
    "scatter(allsrc[:,1],allsrc[:,2],label=\"event\")\n",
    "scatter(allsta[:,1],allsta[:,2],label=\"station\")\n",
    "legend()\n",
    "subplot(122)\n",
    "pcolormesh(run(sess,F),vmin=0.8,vmax=2.2)#vmin&vmax\n",
    "colorbar()\n",
    "title(\"Inverted\")\n",
    "savefig(\"/home/lingxia/ADEikonal.jl/tests/2D_results/real_2.png\")"
   ]
  }
 ],
 "metadata": {
  "kernelspec": {
   "display_name": "Julia 1.9.2",
   "language": "julia",
   "name": "julia-1.9"
  },
  "language_info": {
   "file_extension": ".jl",
   "mimetype": "application/julia",
   "name": "julia",
   "version": "1.9.2"
  },
  "orig_nbformat": 4
 },
 "nbformat": 4,
 "nbformat_minor": 2
}
